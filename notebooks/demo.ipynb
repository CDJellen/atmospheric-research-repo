{
 "cells": [
  {
   "cell_type": "markdown",
   "id": "21f63d1b",
   "metadata": {},
   "source": [
    "## Core Imports"
   ]
  },
  {
   "cell_type": "code",
   "execution_count": 1,
   "id": "2b6068a7",
   "metadata": {},
   "outputs": [],
   "source": [
    "# core libraries\n",
    "import os\n",
    "import pandas as pd\n",
    "import numpy as np\n",
    "import matplotlib\n",
    "import matplotlib.pyplot as plt\n",
    "import matplotlib.dates as mdates\n",
    "\n",
    "import datetime as dt\n",
    "import math\n",
    "import seaborn as sns\n",
    "import datetime\n",
    "from functools import reduce"
   ]
  },
  {
   "cell_type": "markdown",
   "id": "70489456",
   "metadata": {},
   "source": [
    "## Torch Imports"
   ]
  },
  {
   "cell_type": "code",
   "execution_count": 2,
   "id": "87e25372",
   "metadata": {},
   "outputs": [],
   "source": [
    "import torch\n",
    "import pytorch_lightning as pl\n",
    "from pytorch_lightning.callbacks import EarlyStopping, LearningRateMonitor\n",
    "from pytorch_lightning.loggers import TensorBoardLogger\n",
    "import torch\n",
    "\n",
    "from pytorch_forecasting import Baseline, TemporalFusionTransformer, TimeSeriesDataSet\n",
    "from pytorch_forecasting.data import GroupNormalizer\n",
    "from pytorch_forecasting.metrics import SMAPE, PoissonLoss, QuantileLoss\n",
    "from pytorch_forecasting.models.temporal_fusion_transformer.tuning import optimize_hyperparameters"
   ]
  },
  {
   "cell_type": "code",
   "execution_count": 3,
   "id": "afd01af7",
   "metadata": {},
   "outputs": [
    {
     "name": "stdout",
     "output_type": "stream",
     "text": [
      "Primary GPU Available for training: GeForce GTX 1070 with Max-Q Design\n"
     ]
    }
   ],
   "source": [
    "if torch.cuda.is_available():\n",
    "    print(f\"Primary GPU Available for training: {torch.cuda.get_device_name(0)}\")"
   ]
  },
  {
   "cell_type": "code",
   "execution_count": 4,
   "id": "41da8e45",
   "metadata": {},
   "outputs": [
    {
     "data": {
      "text/plain": [
       "'C:\\\\Users\\\\chris\\\\Documents\\\\GitHub\\\\arg\\\\notebooks'"
      ]
     },
     "execution_count": 4,
     "metadata": {},
     "output_type": "execute_result"
    }
   ],
   "source": [
    "os.getcwd()"
   ]
  },
  {
   "cell_type": "code",
   "execution_count": 5,
   "id": "961f7c36",
   "metadata": {},
   "outputs": [],
   "source": [
    "os.chdir(\"..\")"
   ]
  },
  {
   "cell_type": "code",
   "execution_count": 6,
   "id": "8615cff9",
   "metadata": {},
   "outputs": [
    {
     "data": {
      "text/plain": [
       "'C:\\\\Users\\\\chris\\\\Documents\\\\GitHub\\\\arg'"
      ]
     },
     "execution_count": 6,
     "metadata": {},
     "output_type": "execute_result"
    }
   ],
   "source": [
    "os.getcwd()"
   ]
  },
  {
   "cell_type": "code",
   "execution_count": 7,
   "id": "a74f61c1",
   "metadata": {},
   "outputs": [],
   "source": [
    "from config import ROOT_DIR, DATA_DIR, DATA_IN, DATA_OUT, FIGS_DIR, MODELS_DIR"
   ]
  },
  {
   "cell_type": "code",
   "execution_count": 8,
   "id": "515e3992",
   "metadata": {},
   "outputs": [],
   "source": [
    "import utils.models\n",
    "from utils.data import get_df"
   ]
  },
  {
   "cell_type": "markdown",
   "id": "44469384",
   "metadata": {},
   "source": [
    "## Load the Cleaned, Pre-processed Cn2 and Meteorological Data From Files"
   ]
  },
  {
   "cell_type": "code",
   "execution_count": 9,
   "id": "3a23ad9f",
   "metadata": {},
   "outputs": [],
   "source": [
    "df = get_df()"
   ]
  },
  {
   "cell_type": "code",
   "execution_count": 10,
   "id": "1fb57eb1",
   "metadata": {},
   "outputs": [
    {
     "data": {
      "text/html": [
       "<div>\n",
       "<style scoped>\n",
       "    .dataframe tbody tr th:only-of-type {\n",
       "        vertical-align: middle;\n",
       "    }\n",
       "\n",
       "    .dataframe tbody tr th {\n",
       "        vertical-align: top;\n",
       "    }\n",
       "\n",
       "    .dataframe thead th {\n",
       "        text-align: right;\n",
       "    }\n",
       "</style>\n",
       "<table border=\"1\" class=\"dataframe\">\n",
       "  <thead>\n",
       "    <tr style=\"text-align: right;\">\n",
       "      <th></th>\n",
       "      <th>0</th>\n",
       "    </tr>\n",
       "  </thead>\n",
       "  <tbody>\n",
       "    <tr>\n",
       "      <th>Timestamp</th>\n",
       "      <td>2020-01-01 00:10:00</td>\n",
       "    </tr>\n",
       "    <tr>\n",
       "      <th>Cn2</th>\n",
       "      <td>0.0</td>\n",
       "    </tr>\n",
       "    <tr>\n",
       "      <th>Air_Temperature</th>\n",
       "      <td>6.7</td>\n",
       "    </tr>\n",
       "    <tr>\n",
       "      <th>Relative_Humidity</th>\n",
       "      <td>57</td>\n",
       "    </tr>\n",
       "    <tr>\n",
       "      <th>Dew_Point_Temperature</th>\n",
       "      <td>-1.3</td>\n",
       "    </tr>\n",
       "    <tr>\n",
       "      <th>Wind_Speed</th>\n",
       "      <td>2.7</td>\n",
       "    </tr>\n",
       "    <tr>\n",
       "      <th>Wind_Direction</th>\n",
       "      <td>0</td>\n",
       "    </tr>\n",
       "    <tr>\n",
       "      <th>Wind_Run</th>\n",
       "      <td>1.61</td>\n",
       "    </tr>\n",
       "    <tr>\n",
       "      <th>Wind_Speed_Gust</th>\n",
       "      <td>6.7</td>\n",
       "    </tr>\n",
       "    <tr>\n",
       "      <th>Wind_Direction_Gust</th>\n",
       "      <td>0</td>\n",
       "    </tr>\n",
       "    <tr>\n",
       "      <th>Pressure</th>\n",
       "      <td>1008.1</td>\n",
       "    </tr>\n",
       "    <tr>\n",
       "      <th>Solar_Radiation</th>\n",
       "      <td>0.0</td>\n",
       "    </tr>\n",
       "    <tr>\n",
       "      <th>UV_Index</th>\n",
       "      <td>0.0</td>\n",
       "    </tr>\n",
       "    <tr>\n",
       "      <th>Air_Density</th>\n",
       "      <td>1.2408</td>\n",
       "    </tr>\n",
       "    <tr>\n",
       "      <th>Sunrise_Time</th>\n",
       "      <td>2020-01-01 07:25:00</td>\n",
       "    </tr>\n",
       "    <tr>\n",
       "      <th>Sunset_Time</th>\n",
       "      <td>2020-01-01 16:54:00</td>\n",
       "    </tr>\n",
       "    <tr>\n",
       "      <th>Air_Water_Temperature_Difference</th>\n",
       "      <td>2.9</td>\n",
       "    </tr>\n",
       "    <tr>\n",
       "      <th>Daylight_Time</th>\n",
       "      <td>0 days 09:29:00</td>\n",
       "    </tr>\n",
       "    <tr>\n",
       "      <th>Temporal_Hour_Weight</th>\n",
       "      <td>0.0</td>\n",
       "    </tr>\n",
       "    <tr>\n",
       "      <th>Solar_Hour</th>\n",
       "      <td>-7</td>\n",
       "    </tr>\n",
       "    <tr>\n",
       "      <th>Temporal_Hour_Weight_Unscaled</th>\n",
       "      <td>-9.173989</td>\n",
       "    </tr>\n",
       "    <tr>\n",
       "      <th>Temporal_Hour_Weight_Oermann</th>\n",
       "      <td>0.1</td>\n",
       "    </tr>\n",
       "    <tr>\n",
       "      <th>Month</th>\n",
       "      <td>1</td>\n",
       "    </tr>\n",
       "    <tr>\n",
       "      <th>Log_Cn2</th>\n",
       "      <td>-14.936967</td>\n",
       "    </tr>\n",
       "  </tbody>\n",
       "</table>\n",
       "</div>"
      ],
      "text/plain": [
       "                                                    0\n",
       "Timestamp                         2020-01-01 00:10:00\n",
       "Cn2                                               0.0\n",
       "Air_Temperature                                   6.7\n",
       "Relative_Humidity                                  57\n",
       "Dew_Point_Temperature                            -1.3\n",
       "Wind_Speed                                        2.7\n",
       "Wind_Direction                                      0\n",
       "Wind_Run                                         1.61\n",
       "Wind_Speed_Gust                                   6.7\n",
       "Wind_Direction_Gust                                 0\n",
       "Pressure                                       1008.1\n",
       "Solar_Radiation                                   0.0\n",
       "UV_Index                                          0.0\n",
       "Air_Density                                    1.2408\n",
       "Sunrise_Time                      2020-01-01 07:25:00\n",
       "Sunset_Time                       2020-01-01 16:54:00\n",
       "Air_Water_Temperature_Difference                  2.9\n",
       "Daylight_Time                         0 days 09:29:00\n",
       "Temporal_Hour_Weight                              0.0\n",
       "Solar_Hour                                         -7\n",
       "Temporal_Hour_Weight_Unscaled               -9.173989\n",
       "Temporal_Hour_Weight_Oermann                      0.1\n",
       "Month                                               1\n",
       "Log_Cn2                                    -14.936967"
      ]
     },
     "execution_count": 10,
     "metadata": {},
     "output_type": "execute_result"
    }
   ],
   "source": [
    "df.head(1).T"
   ]
  },
  {
   "cell_type": "markdown",
   "id": "5925b2d0",
   "metadata": {},
   "source": [
    "### Prepare the Dataset for PyTorch Modeling"
   ]
  },
  {
   "cell_type": "code",
   "execution_count": 90,
   "id": "eefd6695",
   "metadata": {},
   "outputs": [],
   "source": [
    "data = df.copy()[['Timestamp', 'Log_Cn2', 'Air_Temperature', 'Relative_Humidity',\n",
    "       'Dew_Point_Temperature', 'Wind_Speed', 'Wind_Direction','Pressure', 'Solar_Radiation',\n",
    "       'UV_Index', 'Air_Density', 'Sunrise_Time', 'Sunset_Time',\n",
    "       'Air_Water_Temperature_Difference']]"
   ]
  },
  {
   "cell_type": "code",
   "execution_count": 91,
   "id": "dbd23f8d",
   "metadata": {},
   "outputs": [
    {
     "data": {
      "text/html": [
       "<div>\n",
       "<style scoped>\n",
       "    .dataframe tbody tr th:only-of-type {\n",
       "        vertical-align: middle;\n",
       "    }\n",
       "\n",
       "    .dataframe tbody tr th {\n",
       "        vertical-align: top;\n",
       "    }\n",
       "\n",
       "    .dataframe thead th {\n",
       "        text-align: right;\n",
       "    }\n",
       "</style>\n",
       "<table border=\"1\" class=\"dataframe\">\n",
       "  <thead>\n",
       "    <tr style=\"text-align: right;\">\n",
       "      <th></th>\n",
       "      <th>Timestamp</th>\n",
       "      <th>Log_Cn2</th>\n",
       "      <th>Air_Temperature</th>\n",
       "      <th>Relative_Humidity</th>\n",
       "      <th>Dew_Point_Temperature</th>\n",
       "      <th>Wind_Speed</th>\n",
       "      <th>Wind_Direction</th>\n",
       "      <th>Pressure</th>\n",
       "      <th>Solar_Radiation</th>\n",
       "      <th>UV_Index</th>\n",
       "      <th>Air_Density</th>\n",
       "      <th>Sunrise_Time</th>\n",
       "      <th>Sunset_Time</th>\n",
       "      <th>Air_Water_Temperature_Difference</th>\n",
       "    </tr>\n",
       "  </thead>\n",
       "  <tbody>\n",
       "    <tr>\n",
       "      <th>0</th>\n",
       "      <td>2020-01-01 00:10:00</td>\n",
       "      <td>-14.936967</td>\n",
       "      <td>6.7</td>\n",
       "      <td>57</td>\n",
       "      <td>-1.3</td>\n",
       "      <td>2.7</td>\n",
       "      <td>0</td>\n",
       "      <td>1008.1</td>\n",
       "      <td>0.0</td>\n",
       "      <td>0.0</td>\n",
       "      <td>1.2408</td>\n",
       "      <td>2020-01-01 07:25:00</td>\n",
       "      <td>2020-01-01 16:54:00</td>\n",
       "      <td>2.9</td>\n",
       "    </tr>\n",
       "    <tr>\n",
       "      <th>1</th>\n",
       "      <td>2020-01-01 00:20:00</td>\n",
       "      <td>-15.041384</td>\n",
       "      <td>6.7</td>\n",
       "      <td>59</td>\n",
       "      <td>-0.8</td>\n",
       "      <td>3.6</td>\n",
       "      <td>0</td>\n",
       "      <td>1008.1</td>\n",
       "      <td>0.0</td>\n",
       "      <td>0.0</td>\n",
       "      <td>1.2410</td>\n",
       "      <td>2020-01-01 07:25:00</td>\n",
       "      <td>2020-01-01 16:54:00</td>\n",
       "      <td>2.9</td>\n",
       "    </tr>\n",
       "    <tr>\n",
       "      <th>2</th>\n",
       "      <td>2020-01-01 00:30:00</td>\n",
       "      <td>-15.200632</td>\n",
       "      <td>6.6</td>\n",
       "      <td>60</td>\n",
       "      <td>-0.7</td>\n",
       "      <td>3.6</td>\n",
       "      <td>0</td>\n",
       "      <td>1008.2</td>\n",
       "      <td>0.0</td>\n",
       "      <td>0.0</td>\n",
       "      <td>1.2414</td>\n",
       "      <td>2020-01-01 07:25:00</td>\n",
       "      <td>2020-01-01 16:54:00</td>\n",
       "      <td>2.9</td>\n",
       "    </tr>\n",
       "    <tr>\n",
       "      <th>3</th>\n",
       "      <td>2020-01-01 00:40:00</td>\n",
       "      <td>-15.204989</td>\n",
       "      <td>6.5</td>\n",
       "      <td>60</td>\n",
       "      <td>-0.7</td>\n",
       "      <td>4.0</td>\n",
       "      <td>0</td>\n",
       "      <td>1008.2</td>\n",
       "      <td>0.0</td>\n",
       "      <td>0.0</td>\n",
       "      <td>1.2416</td>\n",
       "      <td>2020-01-01 07:25:00</td>\n",
       "      <td>2020-01-01 16:54:00</td>\n",
       "      <td>2.9</td>\n",
       "    </tr>\n",
       "    <tr>\n",
       "      <th>4</th>\n",
       "      <td>2020-01-01 00:50:00</td>\n",
       "      <td>-15.266281</td>\n",
       "      <td>6.4</td>\n",
       "      <td>59</td>\n",
       "      <td>-1.0</td>\n",
       "      <td>4.0</td>\n",
       "      <td>0</td>\n",
       "      <td>1008.1</td>\n",
       "      <td>0.0</td>\n",
       "      <td>0.0</td>\n",
       "      <td>1.2416</td>\n",
       "      <td>2020-01-01 07:25:00</td>\n",
       "      <td>2020-01-01 16:54:00</td>\n",
       "      <td>2.9</td>\n",
       "    </tr>\n",
       "    <tr>\n",
       "      <th>5</th>\n",
       "      <td>2020-01-01 01:00:00</td>\n",
       "      <td>-15.281905</td>\n",
       "      <td>6.4</td>\n",
       "      <td>60</td>\n",
       "      <td>-0.8</td>\n",
       "      <td>3.6</td>\n",
       "      <td>0</td>\n",
       "      <td>1008.2</td>\n",
       "      <td>0.0</td>\n",
       "      <td>0.0</td>\n",
       "      <td>1.2417</td>\n",
       "      <td>2020-01-01 07:25:00</td>\n",
       "      <td>2020-01-01 16:54:00</td>\n",
       "      <td>2.7</td>\n",
       "    </tr>\n",
       "    <tr>\n",
       "      <th>6</th>\n",
       "      <td>2020-01-01 01:10:00</td>\n",
       "      <td>-15.348402</td>\n",
       "      <td>6.3</td>\n",
       "      <td>59</td>\n",
       "      <td>-1.1</td>\n",
       "      <td>4.0</td>\n",
       "      <td>0</td>\n",
       "      <td>1008.3</td>\n",
       "      <td>0.0</td>\n",
       "      <td>0.0</td>\n",
       "      <td>1.2423</td>\n",
       "      <td>2020-01-01 07:25:00</td>\n",
       "      <td>2020-01-01 16:54:00</td>\n",
       "      <td>2.7</td>\n",
       "    </tr>\n",
       "    <tr>\n",
       "      <th>7</th>\n",
       "      <td>2020-01-01 01:20:00</td>\n",
       "      <td>-15.448489</td>\n",
       "      <td>6.4</td>\n",
       "      <td>57</td>\n",
       "      <td>-1.5</td>\n",
       "      <td>4.0</td>\n",
       "      <td>0</td>\n",
       "      <td>1008.7</td>\n",
       "      <td>0.0</td>\n",
       "      <td>0.0</td>\n",
       "      <td>1.2429</td>\n",
       "      <td>2020-01-01 07:25:00</td>\n",
       "      <td>2020-01-01 16:54:00</td>\n",
       "      <td>2.7</td>\n",
       "    </tr>\n",
       "    <tr>\n",
       "      <th>8</th>\n",
       "      <td>2020-01-01 01:30:00</td>\n",
       "      <td>-15.406138</td>\n",
       "      <td>6.3</td>\n",
       "      <td>57</td>\n",
       "      <td>-1.6</td>\n",
       "      <td>3.1</td>\n",
       "      <td>0</td>\n",
       "      <td>1008.9</td>\n",
       "      <td>0.0</td>\n",
       "      <td>0.0</td>\n",
       "      <td>1.2434</td>\n",
       "      <td>2020-01-01 07:25:00</td>\n",
       "      <td>2020-01-01 16:54:00</td>\n",
       "      <td>2.7</td>\n",
       "    </tr>\n",
       "    <tr>\n",
       "      <th>9</th>\n",
       "      <td>2020-01-01 01:40:00</td>\n",
       "      <td>-15.563186</td>\n",
       "      <td>6.3</td>\n",
       "      <td>57</td>\n",
       "      <td>-1.6</td>\n",
       "      <td>3.1</td>\n",
       "      <td>0</td>\n",
       "      <td>1008.8</td>\n",
       "      <td>0.0</td>\n",
       "      <td>0.0</td>\n",
       "      <td>1.2439</td>\n",
       "      <td>2020-01-01 07:25:00</td>\n",
       "      <td>2020-01-01 16:54:00</td>\n",
       "      <td>2.7</td>\n",
       "    </tr>\n",
       "    <tr>\n",
       "      <th>10</th>\n",
       "      <td>2020-01-01 01:50:00</td>\n",
       "      <td>-15.433763</td>\n",
       "      <td>6.3</td>\n",
       "      <td>57</td>\n",
       "      <td>-1.6</td>\n",
       "      <td>2.7</td>\n",
       "      <td>0</td>\n",
       "      <td>1009.0</td>\n",
       "      <td>0.0</td>\n",
       "      <td>0.0</td>\n",
       "      <td>1.2442</td>\n",
       "      <td>2020-01-01 07:25:00</td>\n",
       "      <td>2020-01-01 16:54:00</td>\n",
       "      <td>2.7</td>\n",
       "    </tr>\n",
       "    <tr>\n",
       "      <th>11</th>\n",
       "      <td>2020-01-01 02:00:00</td>\n",
       "      <td>-15.628544</td>\n",
       "      <td>6.2</td>\n",
       "      <td>57</td>\n",
       "      <td>-1.7</td>\n",
       "      <td>2.7</td>\n",
       "      <td>0</td>\n",
       "      <td>1009.0</td>\n",
       "      <td>0.0</td>\n",
       "      <td>0.0</td>\n",
       "      <td>1.2443</td>\n",
       "      <td>2020-01-01 07:25:00</td>\n",
       "      <td>2020-01-01 16:54:00</td>\n",
       "      <td>2.2</td>\n",
       "    </tr>\n",
       "    <tr>\n",
       "      <th>12</th>\n",
       "      <td>2020-01-01 02:10:00</td>\n",
       "      <td>-15.515231</td>\n",
       "      <td>6.2</td>\n",
       "      <td>57</td>\n",
       "      <td>-1.7</td>\n",
       "      <td>2.7</td>\n",
       "      <td>0</td>\n",
       "      <td>1009.1</td>\n",
       "      <td>0.0</td>\n",
       "      <td>0.0</td>\n",
       "      <td>1.2447</td>\n",
       "      <td>2020-01-01 07:25:00</td>\n",
       "      <td>2020-01-01 16:54:00</td>\n",
       "      <td>2.2</td>\n",
       "    </tr>\n",
       "    <tr>\n",
       "      <th>13</th>\n",
       "      <td>2020-01-01 02:20:00</td>\n",
       "      <td>-15.830708</td>\n",
       "      <td>6.1</td>\n",
       "      <td>58</td>\n",
       "      <td>-1.5</td>\n",
       "      <td>2.2</td>\n",
       "      <td>0</td>\n",
       "      <td>1009.2</td>\n",
       "      <td>0.0</td>\n",
       "      <td>0.0</td>\n",
       "      <td>1.2450</td>\n",
       "      <td>2020-01-01 07:25:00</td>\n",
       "      <td>2020-01-01 16:54:00</td>\n",
       "      <td>2.2</td>\n",
       "    </tr>\n",
       "    <tr>\n",
       "      <th>14</th>\n",
       "      <td>2020-01-01 02:30:00</td>\n",
       "      <td>-15.872733</td>\n",
       "      <td>6.1</td>\n",
       "      <td>58</td>\n",
       "      <td>-1.6</td>\n",
       "      <td>2.7</td>\n",
       "      <td>0</td>\n",
       "      <td>1009.2</td>\n",
       "      <td>0.0</td>\n",
       "      <td>0.0</td>\n",
       "      <td>1.2453</td>\n",
       "      <td>2020-01-01 07:25:00</td>\n",
       "      <td>2020-01-01 16:54:00</td>\n",
       "      <td>2.2</td>\n",
       "    </tr>\n",
       "    <tr>\n",
       "      <th>15</th>\n",
       "      <td>2020-01-01 02:40:00</td>\n",
       "      <td>-15.893401</td>\n",
       "      <td>6.0</td>\n",
       "      <td>58</td>\n",
       "      <td>-1.6</td>\n",
       "      <td>3.1</td>\n",
       "      <td>0</td>\n",
       "      <td>1009.4</td>\n",
       "      <td>0.0</td>\n",
       "      <td>0.0</td>\n",
       "      <td>1.2456</td>\n",
       "      <td>2020-01-01 07:25:00</td>\n",
       "      <td>2020-01-01 16:54:00</td>\n",
       "      <td>2.2</td>\n",
       "    </tr>\n",
       "    <tr>\n",
       "      <th>16</th>\n",
       "      <td>2020-01-01 02:50:00</td>\n",
       "      <td>-16.089018</td>\n",
       "      <td>5.8</td>\n",
       "      <td>58</td>\n",
       "      <td>-1.8</td>\n",
       "      <td>2.2</td>\n",
       "      <td>0</td>\n",
       "      <td>1009.5</td>\n",
       "      <td>0.0</td>\n",
       "      <td>0.0</td>\n",
       "      <td>1.2456</td>\n",
       "      <td>2020-01-01 07:25:00</td>\n",
       "      <td>2020-01-01 16:54:00</td>\n",
       "      <td>2.2</td>\n",
       "    </tr>\n",
       "    <tr>\n",
       "      <th>17</th>\n",
       "      <td>2020-01-01 03:00:00</td>\n",
       "      <td>-15.727996</td>\n",
       "      <td>5.9</td>\n",
       "      <td>59</td>\n",
       "      <td>-1.5</td>\n",
       "      <td>2.2</td>\n",
       "      <td>0</td>\n",
       "      <td>1009.4</td>\n",
       "      <td>0.0</td>\n",
       "      <td>0.0</td>\n",
       "      <td>1.2458</td>\n",
       "      <td>2020-01-01 07:25:00</td>\n",
       "      <td>2020-01-01 16:54:00</td>\n",
       "      <td>1.3</td>\n",
       "    </tr>\n",
       "    <tr>\n",
       "      <th>18</th>\n",
       "      <td>2020-01-01 03:10:00</td>\n",
       "      <td>-15.457224</td>\n",
       "      <td>5.8</td>\n",
       "      <td>58</td>\n",
       "      <td>-1.8</td>\n",
       "      <td>1.8</td>\n",
       "      <td>0</td>\n",
       "      <td>1009.4</td>\n",
       "      <td>0.0</td>\n",
       "      <td>0.0</td>\n",
       "      <td>1.2461</td>\n",
       "      <td>2020-01-01 07:25:00</td>\n",
       "      <td>2020-01-01 16:54:00</td>\n",
       "      <td>1.3</td>\n",
       "    </tr>\n",
       "    <tr>\n",
       "      <th>19</th>\n",
       "      <td>2020-01-01 03:20:00</td>\n",
       "      <td>-16.114390</td>\n",
       "      <td>5.9</td>\n",
       "      <td>58</td>\n",
       "      <td>-1.8</td>\n",
       "      <td>2.2</td>\n",
       "      <td>0</td>\n",
       "      <td>1009.4</td>\n",
       "      <td>0.0</td>\n",
       "      <td>0.0</td>\n",
       "      <td>1.2461</td>\n",
       "      <td>2020-01-01 07:25:00</td>\n",
       "      <td>2020-01-01 16:54:00</td>\n",
       "      <td>1.3</td>\n",
       "    </tr>\n",
       "    <tr>\n",
       "      <th>20</th>\n",
       "      <td>2020-01-01 03:30:00</td>\n",
       "      <td>-15.843360</td>\n",
       "      <td>5.9</td>\n",
       "      <td>58</td>\n",
       "      <td>-1.7</td>\n",
       "      <td>2.2</td>\n",
       "      <td>0</td>\n",
       "      <td>1009.3</td>\n",
       "      <td>0.0</td>\n",
       "      <td>0.0</td>\n",
       "      <td>1.2460</td>\n",
       "      <td>2020-01-01 07:25:00</td>\n",
       "      <td>2020-01-01 16:54:00</td>\n",
       "      <td>1.3</td>\n",
       "    </tr>\n",
       "    <tr>\n",
       "      <th>21</th>\n",
       "      <td>2020-01-01 03:40:00</td>\n",
       "      <td>-15.765787</td>\n",
       "      <td>5.9</td>\n",
       "      <td>58</td>\n",
       "      <td>-1.8</td>\n",
       "      <td>1.8</td>\n",
       "      <td>0</td>\n",
       "      <td>1009.4</td>\n",
       "      <td>0.0</td>\n",
       "      <td>0.0</td>\n",
       "      <td>1.2463</td>\n",
       "      <td>2020-01-01 07:25:00</td>\n",
       "      <td>2020-01-01 16:54:00</td>\n",
       "      <td>1.3</td>\n",
       "    </tr>\n",
       "    <tr>\n",
       "      <th>22</th>\n",
       "      <td>2020-01-01 03:50:00</td>\n",
       "      <td>-15.908685</td>\n",
       "      <td>5.9</td>\n",
       "      <td>58</td>\n",
       "      <td>-1.8</td>\n",
       "      <td>2.7</td>\n",
       "      <td>0</td>\n",
       "      <td>1009.6</td>\n",
       "      <td>0.0</td>\n",
       "      <td>0.0</td>\n",
       "      <td>1.2466</td>\n",
       "      <td>2020-01-01 07:25:00</td>\n",
       "      <td>2020-01-01 16:54:00</td>\n",
       "      <td>1.3</td>\n",
       "    </tr>\n",
       "    <tr>\n",
       "      <th>23</th>\n",
       "      <td>2020-01-01 04:00:00</td>\n",
       "      <td>-15.822666</td>\n",
       "      <td>5.9</td>\n",
       "      <td>58</td>\n",
       "      <td>-1.8</td>\n",
       "      <td>2.2</td>\n",
       "      <td>0</td>\n",
       "      <td>1009.6</td>\n",
       "      <td>0.0</td>\n",
       "      <td>0.0</td>\n",
       "      <td>1.2469</td>\n",
       "      <td>2020-01-01 07:25:00</td>\n",
       "      <td>2020-01-01 16:54:00</td>\n",
       "      <td>0.6</td>\n",
       "    </tr>\n",
       "    <tr>\n",
       "      <th>24</th>\n",
       "      <td>2020-01-01 04:10:00</td>\n",
       "      <td>-15.840643</td>\n",
       "      <td>5.9</td>\n",
       "      <td>57</td>\n",
       "      <td>-2.0</td>\n",
       "      <td>2.2</td>\n",
       "      <td>0</td>\n",
       "      <td>1009.5</td>\n",
       "      <td>0.0</td>\n",
       "      <td>0.0</td>\n",
       "      <td>1.2468</td>\n",
       "      <td>2020-01-01 07:25:00</td>\n",
       "      <td>2020-01-01 16:54:00</td>\n",
       "      <td>0.6</td>\n",
       "    </tr>\n",
       "    <tr>\n",
       "      <th>25</th>\n",
       "      <td>2020-01-01 04:20:00</td>\n",
       "      <td>-15.924198</td>\n",
       "      <td>5.9</td>\n",
       "      <td>56</td>\n",
       "      <td>-2.2</td>\n",
       "      <td>2.7</td>\n",
       "      <td>0</td>\n",
       "      <td>1009.7</td>\n",
       "      <td>0.0</td>\n",
       "      <td>0.0</td>\n",
       "      <td>1.2474</td>\n",
       "      <td>2020-01-01 07:25:00</td>\n",
       "      <td>2020-01-01 16:54:00</td>\n",
       "      <td>0.6</td>\n",
       "    </tr>\n",
       "    <tr>\n",
       "      <th>26</th>\n",
       "      <td>2020-01-01 04:30:00</td>\n",
       "      <td>-15.850073</td>\n",
       "      <td>5.8</td>\n",
       "      <td>57</td>\n",
       "      <td>-2.0</td>\n",
       "      <td>1.8</td>\n",
       "      <td>0</td>\n",
       "      <td>1009.7</td>\n",
       "      <td>0.0</td>\n",
       "      <td>0.0</td>\n",
       "      <td>1.2474</td>\n",
       "      <td>2020-01-01 07:25:00</td>\n",
       "      <td>2020-01-01 16:54:00</td>\n",
       "      <td>0.6</td>\n",
       "    </tr>\n",
       "    <tr>\n",
       "      <th>27</th>\n",
       "      <td>2020-01-01 04:40:00</td>\n",
       "      <td>-15.817614</td>\n",
       "      <td>5.8</td>\n",
       "      <td>58</td>\n",
       "      <td>-1.9</td>\n",
       "      <td>1.3</td>\n",
       "      <td>0</td>\n",
       "      <td>1009.7</td>\n",
       "      <td>0.0</td>\n",
       "      <td>0.0</td>\n",
       "      <td>1.2475</td>\n",
       "      <td>2020-01-01 07:25:00</td>\n",
       "      <td>2020-01-01 16:54:00</td>\n",
       "      <td>0.6</td>\n",
       "    </tr>\n",
       "    <tr>\n",
       "      <th>28</th>\n",
       "      <td>2020-01-01 04:50:00</td>\n",
       "      <td>-15.803575</td>\n",
       "      <td>5.7</td>\n",
       "      <td>59</td>\n",
       "      <td>-1.7</td>\n",
       "      <td>1.8</td>\n",
       "      <td>0</td>\n",
       "      <td>1009.7</td>\n",
       "      <td>0.0</td>\n",
       "      <td>0.0</td>\n",
       "      <td>1.2475</td>\n",
       "      <td>2020-01-01 07:25:00</td>\n",
       "      <td>2020-01-01 16:54:00</td>\n",
       "      <td>0.6</td>\n",
       "    </tr>\n",
       "    <tr>\n",
       "      <th>29</th>\n",
       "      <td>2020-01-01 05:00:00</td>\n",
       "      <td>-15.749824</td>\n",
       "      <td>5.6</td>\n",
       "      <td>58</td>\n",
       "      <td>-2.0</td>\n",
       "      <td>1.3</td>\n",
       "      <td>0</td>\n",
       "      <td>1009.7</td>\n",
       "      <td>0.0</td>\n",
       "      <td>0.0</td>\n",
       "      <td>1.2477</td>\n",
       "      <td>2020-01-01 07:25:00</td>\n",
       "      <td>2020-01-01 16:54:00</td>\n",
       "      <td>0.6</td>\n",
       "    </tr>\n",
       "  </tbody>\n",
       "</table>\n",
       "</div>"
      ],
      "text/plain": [
       "             Timestamp    Log_Cn2  Air_Temperature  Relative_Humidity  \\\n",
       "0  2020-01-01 00:10:00 -14.936967              6.7                 57   \n",
       "1  2020-01-01 00:20:00 -15.041384              6.7                 59   \n",
       "2  2020-01-01 00:30:00 -15.200632              6.6                 60   \n",
       "3  2020-01-01 00:40:00 -15.204989              6.5                 60   \n",
       "4  2020-01-01 00:50:00 -15.266281              6.4                 59   \n",
       "5  2020-01-01 01:00:00 -15.281905              6.4                 60   \n",
       "6  2020-01-01 01:10:00 -15.348402              6.3                 59   \n",
       "7  2020-01-01 01:20:00 -15.448489              6.4                 57   \n",
       "8  2020-01-01 01:30:00 -15.406138              6.3                 57   \n",
       "9  2020-01-01 01:40:00 -15.563186              6.3                 57   \n",
       "10 2020-01-01 01:50:00 -15.433763              6.3                 57   \n",
       "11 2020-01-01 02:00:00 -15.628544              6.2                 57   \n",
       "12 2020-01-01 02:10:00 -15.515231              6.2                 57   \n",
       "13 2020-01-01 02:20:00 -15.830708              6.1                 58   \n",
       "14 2020-01-01 02:30:00 -15.872733              6.1                 58   \n",
       "15 2020-01-01 02:40:00 -15.893401              6.0                 58   \n",
       "16 2020-01-01 02:50:00 -16.089018              5.8                 58   \n",
       "17 2020-01-01 03:00:00 -15.727996              5.9                 59   \n",
       "18 2020-01-01 03:10:00 -15.457224              5.8                 58   \n",
       "19 2020-01-01 03:20:00 -16.114390              5.9                 58   \n",
       "20 2020-01-01 03:30:00 -15.843360              5.9                 58   \n",
       "21 2020-01-01 03:40:00 -15.765787              5.9                 58   \n",
       "22 2020-01-01 03:50:00 -15.908685              5.9                 58   \n",
       "23 2020-01-01 04:00:00 -15.822666              5.9                 58   \n",
       "24 2020-01-01 04:10:00 -15.840643              5.9                 57   \n",
       "25 2020-01-01 04:20:00 -15.924198              5.9                 56   \n",
       "26 2020-01-01 04:30:00 -15.850073              5.8                 57   \n",
       "27 2020-01-01 04:40:00 -15.817614              5.8                 58   \n",
       "28 2020-01-01 04:50:00 -15.803575              5.7                 59   \n",
       "29 2020-01-01 05:00:00 -15.749824              5.6                 58   \n",
       "\n",
       "    Dew_Point_Temperature  Wind_Speed  Wind_Direction  Pressure  \\\n",
       "0                    -1.3         2.7               0    1008.1   \n",
       "1                    -0.8         3.6               0    1008.1   \n",
       "2                    -0.7         3.6               0    1008.2   \n",
       "3                    -0.7         4.0               0    1008.2   \n",
       "4                    -1.0         4.0               0    1008.1   \n",
       "5                    -0.8         3.6               0    1008.2   \n",
       "6                    -1.1         4.0               0    1008.3   \n",
       "7                    -1.5         4.0               0    1008.7   \n",
       "8                    -1.6         3.1               0    1008.9   \n",
       "9                    -1.6         3.1               0    1008.8   \n",
       "10                   -1.6         2.7               0    1009.0   \n",
       "11                   -1.7         2.7               0    1009.0   \n",
       "12                   -1.7         2.7               0    1009.1   \n",
       "13                   -1.5         2.2               0    1009.2   \n",
       "14                   -1.6         2.7               0    1009.2   \n",
       "15                   -1.6         3.1               0    1009.4   \n",
       "16                   -1.8         2.2               0    1009.5   \n",
       "17                   -1.5         2.2               0    1009.4   \n",
       "18                   -1.8         1.8               0    1009.4   \n",
       "19                   -1.8         2.2               0    1009.4   \n",
       "20                   -1.7         2.2               0    1009.3   \n",
       "21                   -1.8         1.8               0    1009.4   \n",
       "22                   -1.8         2.7               0    1009.6   \n",
       "23                   -1.8         2.2               0    1009.6   \n",
       "24                   -2.0         2.2               0    1009.5   \n",
       "25                   -2.2         2.7               0    1009.7   \n",
       "26                   -2.0         1.8               0    1009.7   \n",
       "27                   -1.9         1.3               0    1009.7   \n",
       "28                   -1.7         1.8               0    1009.7   \n",
       "29                   -2.0         1.3               0    1009.7   \n",
       "\n",
       "    Solar_Radiation  UV_Index  Air_Density        Sunrise_Time  \\\n",
       "0               0.0       0.0       1.2408 2020-01-01 07:25:00   \n",
       "1               0.0       0.0       1.2410 2020-01-01 07:25:00   \n",
       "2               0.0       0.0       1.2414 2020-01-01 07:25:00   \n",
       "3               0.0       0.0       1.2416 2020-01-01 07:25:00   \n",
       "4               0.0       0.0       1.2416 2020-01-01 07:25:00   \n",
       "5               0.0       0.0       1.2417 2020-01-01 07:25:00   \n",
       "6               0.0       0.0       1.2423 2020-01-01 07:25:00   \n",
       "7               0.0       0.0       1.2429 2020-01-01 07:25:00   \n",
       "8               0.0       0.0       1.2434 2020-01-01 07:25:00   \n",
       "9               0.0       0.0       1.2439 2020-01-01 07:25:00   \n",
       "10              0.0       0.0       1.2442 2020-01-01 07:25:00   \n",
       "11              0.0       0.0       1.2443 2020-01-01 07:25:00   \n",
       "12              0.0       0.0       1.2447 2020-01-01 07:25:00   \n",
       "13              0.0       0.0       1.2450 2020-01-01 07:25:00   \n",
       "14              0.0       0.0       1.2453 2020-01-01 07:25:00   \n",
       "15              0.0       0.0       1.2456 2020-01-01 07:25:00   \n",
       "16              0.0       0.0       1.2456 2020-01-01 07:25:00   \n",
       "17              0.0       0.0       1.2458 2020-01-01 07:25:00   \n",
       "18              0.0       0.0       1.2461 2020-01-01 07:25:00   \n",
       "19              0.0       0.0       1.2461 2020-01-01 07:25:00   \n",
       "20              0.0       0.0       1.2460 2020-01-01 07:25:00   \n",
       "21              0.0       0.0       1.2463 2020-01-01 07:25:00   \n",
       "22              0.0       0.0       1.2466 2020-01-01 07:25:00   \n",
       "23              0.0       0.0       1.2469 2020-01-01 07:25:00   \n",
       "24              0.0       0.0       1.2468 2020-01-01 07:25:00   \n",
       "25              0.0       0.0       1.2474 2020-01-01 07:25:00   \n",
       "26              0.0       0.0       1.2474 2020-01-01 07:25:00   \n",
       "27              0.0       0.0       1.2475 2020-01-01 07:25:00   \n",
       "28              0.0       0.0       1.2475 2020-01-01 07:25:00   \n",
       "29              0.0       0.0       1.2477 2020-01-01 07:25:00   \n",
       "\n",
       "           Sunset_Time  Air_Water_Temperature_Difference  \n",
       "0  2020-01-01 16:54:00                               2.9  \n",
       "1  2020-01-01 16:54:00                               2.9  \n",
       "2  2020-01-01 16:54:00                               2.9  \n",
       "3  2020-01-01 16:54:00                               2.9  \n",
       "4  2020-01-01 16:54:00                               2.9  \n",
       "5  2020-01-01 16:54:00                               2.7  \n",
       "6  2020-01-01 16:54:00                               2.7  \n",
       "7  2020-01-01 16:54:00                               2.7  \n",
       "8  2020-01-01 16:54:00                               2.7  \n",
       "9  2020-01-01 16:54:00                               2.7  \n",
       "10 2020-01-01 16:54:00                               2.7  \n",
       "11 2020-01-01 16:54:00                               2.2  \n",
       "12 2020-01-01 16:54:00                               2.2  \n",
       "13 2020-01-01 16:54:00                               2.2  \n",
       "14 2020-01-01 16:54:00                               2.2  \n",
       "15 2020-01-01 16:54:00                               2.2  \n",
       "16 2020-01-01 16:54:00                               2.2  \n",
       "17 2020-01-01 16:54:00                               1.3  \n",
       "18 2020-01-01 16:54:00                               1.3  \n",
       "19 2020-01-01 16:54:00                               1.3  \n",
       "20 2020-01-01 16:54:00                               1.3  \n",
       "21 2020-01-01 16:54:00                               1.3  \n",
       "22 2020-01-01 16:54:00                               1.3  \n",
       "23 2020-01-01 16:54:00                               0.6  \n",
       "24 2020-01-01 16:54:00                               0.6  \n",
       "25 2020-01-01 16:54:00                               0.6  \n",
       "26 2020-01-01 16:54:00                               0.6  \n",
       "27 2020-01-01 16:54:00                               0.6  \n",
       "28 2020-01-01 16:54:00                               0.6  \n",
       "29 2020-01-01 16:54:00                               0.6  "
      ]
     },
     "execution_count": 91,
     "metadata": {},
     "output_type": "execute_result"
    }
   ],
   "source": [
    "data.head(30)"
   ]
  },
  {
   "cell_type": "code",
   "execution_count": 92,
   "id": "80807d1d",
   "metadata": {},
   "outputs": [],
   "source": [
    "data = data.rename(columns={\"Timestamp\": \"date\"})"
   ]
  },
  {
   "cell_type": "code",
   "execution_count": 93,
   "id": "f4a2b736",
   "metadata": {},
   "outputs": [
    {
     "data": {
      "text/plain": [
       "Index(['date', 'Log_Cn2', 'Air_Temperature', 'Relative_Humidity',\n",
       "       'Dew_Point_Temperature', 'Wind_Speed', 'Wind_Direction', 'Pressure',\n",
       "       'Solar_Radiation', 'UV_Index', 'Air_Density', 'Sunrise_Time',\n",
       "       'Sunset_Time', 'Air_Water_Temperature_Difference'],\n",
       "      dtype='object')"
      ]
     },
     "execution_count": 93,
     "metadata": {},
     "output_type": "execute_result"
    }
   ],
   "source": [
    "data.columns"
   ]
  },
  {
   "cell_type": "code",
   "execution_count": 94,
   "id": "75af493e",
   "metadata": {},
   "outputs": [],
   "source": [
    "data.Wind_Direction = data.Wind_Direction.astype(str)\n",
    "data.Relative_Humidity = data.Relative_Humidity.astype(np.int64)"
   ]
  },
  {
   "cell_type": "code",
   "execution_count": 95,
   "id": "d03e1c0b",
   "metadata": {},
   "outputs": [
    {
     "name": "stdout",
     "output_type": "stream",
     "text": [
      "<class 'pandas.core.frame.DataFrame'>\n",
      "RangeIndex: 3 entries, 0 to 2\n",
      "Data columns (total 14 columns):\n",
      " #   Column                            Non-Null Count  Dtype         \n",
      "---  ------                            --------------  -----         \n",
      " 0   date                              3 non-null      datetime64[ns]\n",
      " 1   Log_Cn2                           3 non-null      float64       \n",
      " 2   Air_Temperature                   3 non-null      float64       \n",
      " 3   Relative_Humidity                 3 non-null      int64         \n",
      " 4   Dew_Point_Temperature             3 non-null      float64       \n",
      " 5   Wind_Speed                        3 non-null      float64       \n",
      " 6   Wind_Direction                    3 non-null      object        \n",
      " 7   Pressure                          3 non-null      float64       \n",
      " 8   Solar_Radiation                   3 non-null      float64       \n",
      " 9   UV_Index                          3 non-null      float64       \n",
      " 10  Air_Density                       3 non-null      float64       \n",
      " 11  Sunrise_Time                      3 non-null      datetime64[ns]\n",
      " 12  Sunset_Time                       3 non-null      datetime64[ns]\n",
      " 13  Air_Water_Temperature_Difference  3 non-null      float64       \n",
      "dtypes: datetime64[ns](3), float64(9), int64(1), object(1)\n",
      "memory usage: 464.0+ bytes\n"
     ]
    }
   ],
   "source": [
    "data.head(3).info()"
   ]
  },
  {
   "cell_type": "code",
   "execution_count": 96,
   "id": "8ca81dcb",
   "metadata": {},
   "outputs": [],
   "source": [
    "#data['time_idx'] = pd.to_datetime(data['date']).astype(np.int64)/600000000000 # record every 10 minutes, can be adjusted for new time steps\n",
    "#data['time_idx'] -= data['time_idx'].min()\n",
    "#data['time_idx'] = data['time_idx'].astype(np.int64) # interestingly, it is essential that the dtype of the time index be a 64 bit integer\n",
    "data['time_idx'] = pd.Series(list(data.reset_index().index.values.astype(np.int64)))"
   ]
  },
  {
   "cell_type": "markdown",
   "id": "95b7e912",
   "metadata": {},
   "source": [
    "#### Validate the time_idx as monotonically increasing"
   ]
  },
  {
   "cell_type": "code",
   "execution_count": 97,
   "id": "4abcf499",
   "metadata": {},
   "outputs": [
    {
     "name": "stdout",
     "output_type": "stream",
     "text": [
      "<class 'pandas.core.frame.DataFrame'>\n",
      "RangeIndex: 36769 entries, 0 to 36768\n",
      "Data columns (total 15 columns):\n",
      " #   Column                            Non-Null Count  Dtype         \n",
      "---  ------                            --------------  -----         \n",
      " 0   date                              36769 non-null  datetime64[ns]\n",
      " 1   Log_Cn2                           36769 non-null  float64       \n",
      " 2   Air_Temperature                   36769 non-null  float64       \n",
      " 3   Relative_Humidity                 36769 non-null  int64         \n",
      " 4   Dew_Point_Temperature             36769 non-null  float64       \n",
      " 5   Wind_Speed                        36769 non-null  float64       \n",
      " 6   Wind_Direction                    36769 non-null  object        \n",
      " 7   Pressure                          36769 non-null  float64       \n",
      " 8   Solar_Radiation                   36769 non-null  float64       \n",
      " 9   UV_Index                          36769 non-null  float64       \n",
      " 10  Air_Density                       36769 non-null  float64       \n",
      " 11  Sunrise_Time                      36769 non-null  datetime64[ns]\n",
      " 12  Sunset_Time                       36769 non-null  datetime64[ns]\n",
      " 13  Air_Water_Temperature_Difference  36769 non-null  float64       \n",
      " 14  time_idx                          36769 non-null  int64         \n",
      "dtypes: datetime64[ns](3), float64(9), int64(2), object(1)\n",
      "memory usage: 4.2+ MB\n"
     ]
    }
   ],
   "source": [
    "data.info()"
   ]
  },
  {
   "cell_type": "code",
   "execution_count": 98,
   "id": "aacb9b0b",
   "metadata": {},
   "outputs": [],
   "source": [
    "data[\"month\"] = data.date.dt.month.astype(str).astype(\"category\")  # categories have be strings, "
   ]
  },
  {
   "cell_type": "code",
   "execution_count": 99,
   "id": "595fb788",
   "metadata": {},
   "outputs": [],
   "source": [
    "data[\"group\"] = 0"
   ]
  },
  {
   "cell_type": "code",
   "execution_count": 100,
   "id": "d7971fa2",
   "metadata": {},
   "outputs": [],
   "source": [
    "data = data.head(9000)"
   ]
  },
  {
   "cell_type": "markdown",
   "id": "4e06c58d",
   "metadata": {},
   "source": [
    "### Create TimeSeriesDataSet"
   ]
  },
  {
   "cell_type": "code",
   "execution_count": 76,
   "id": "edde9b4c",
   "metadata": {},
   "outputs": [],
   "source": [
    "max_prediction_length = 60\n",
    "max_encoder_length = 360\n",
    "training_cutoff = data[\"time_idx\"].max() - max_prediction_length\n",
    "\n",
    "training = TimeSeriesDataSet(\n",
    "    data[lambda x: x.time_idx <= training_cutoff],\n",
    "    time_idx=\"time_idx\",\n",
    "    target=\"Log_Cn2\",\n",
    "    group_ids=[\"group\"],\n",
    "    min_encoder_length=max_encoder_length // 2,  # keep encoder length long (as it is in the validation set)\n",
    "    max_encoder_length=max_encoder_length,\n",
    "    min_prediction_length=1,\n",
    "    max_prediction_length=max_prediction_length,\n",
    "    #static_categoricals=[\"group\"],\n",
    "    #static_reals=[\"avg_population_2017\", \"avg_yearly_household_income_2017\"],\n",
    "    time_varying_known_categoricals=[\"month\"],\n",
    "    #variable_groups={\"special_days\": special_days},  # group of categorical variables can be treated as one variable\n",
    "    time_varying_known_reals=[\"time_idx\", \"Sunrise_Time\", \"Sunset_Time\",         \n",
    "                              \"Air_Temperature\",\n",
    "        \"Relative_Humidity\",\n",
    "        \"Dew_Point_Temperature\",\n",
    "        \"Wind_Speed\",\n",
    "        \"Pressure\",\n",
    "        \"Solar_Radiation\",\n",
    "        \"UV_Index\",\n",
    "        \"Air_Density\",\n",
    "        \"Air_Water_Temperature_Difference\"    ],\n",
    "    time_varying_unknown_categoricals=[\"Wind_Direction\"],\n",
    "    time_varying_unknown_reals=[\n",
    "        \"Log_Cn2\", \n",
    "    ],\n",
    "    #allow_missing_timesteps=True,\n",
    "    add_relative_time_idx=True,\n",
    "    add_target_scales=True,\n",
    "    add_encoder_length=True,\n",
    ")\n",
    "\n",
    "# create validation set (predict=True) which means to predict the last max_prediction_length points in time\n",
    "# for each series\n",
    "validation = TimeSeriesDataSet.from_dataset(training, data, predict=True, stop_randomization=True)\n",
    "\n",
    "# create dataloaders for model\n",
    "batch_size = 64  # set this between 32 to 128\n",
    "train_dataloader = training.to_dataloader(train=True, batch_size=batch_size, num_workers=0)\n",
    "val_dataloader = validation.to_dataloader(train=False, batch_size=batch_size * 10, num_workers=0)"
   ]
  },
  {
   "cell_type": "markdown",
   "id": "b3812176",
   "metadata": {},
   "source": [
    "### PyTorch Forecasting"
   ]
  },
  {
   "cell_type": "markdown",
   "id": "8a9e13d4",
   "metadata": {},
   "source": [
    "#### Find the predicted optimal learning rate"
   ]
  },
  {
   "cell_type": "code",
   "execution_count": 45,
   "id": "d8907777",
   "metadata": {},
   "outputs": [
    {
     "name": "stderr",
     "output_type": "stream",
     "text": [
      "Global seed set to 42\n",
      "GPU available: True, used: True\n",
      "TPU available: False, using: 0 TPU cores\n",
      "IPU available: False, using: 0 IPUs\n"
     ]
    },
    {
     "name": "stdout",
     "output_type": "stream",
     "text": [
      "Number of parameters in network: 29.3k\n"
     ]
    }
   ],
   "source": [
    "# configure network and trainer\n",
    "pl.seed_everything(42)\n",
    "trainer = pl.Trainer(\n",
    "    gpus=1,\n",
    "    # clipping gradients is a hyperparameter and important to prevent divergance\n",
    "    # of the gradient for recurrent neural networks\n",
    "    gradient_clip_val=0.1,\n",
    ")\n",
    "\n",
    "\n",
    "tft = TemporalFusionTransformer.from_dataset(\n",
    "    training,\n",
    "    # not meaningful for finding the learning rate but otherwise very important\n",
    "    learning_rate=0.03,\n",
    "    hidden_size=16,  # most important hyperparameter apart from learning rate\n",
    "    # number of attention heads. Set to up to 4 for large datasets\n",
    "    attention_head_size=1,\n",
    "    dropout=0.1,  # between 0.1 and 0.3 are good values\n",
    "    hidden_continuous_size=8,  # set to <= hidden_size\n",
    "    output_size=7,  # 7 quantiles by default\n",
    "    loss=QuantileLoss(),\n",
    "    # reduce learning rate if no improvement in validation loss after x epochs\n",
    "    reduce_on_plateau_patience=4,\n",
    ")\n",
    "print(f\"Number of parameters in network: {tft.size()/1e3:.1f}k\")"
   ]
  },
  {
   "cell_type": "code",
   "execution_count": 46,
   "id": "a99a792c",
   "metadata": {},
   "outputs": [
    {
     "name": "stderr",
     "output_type": "stream",
     "text": [
      "LOCAL_RANK: 0 - CUDA_VISIBLE_DEVICES: [0]\n",
      "\n",
      "   | Name                               | Type                            | Params\n",
      "----------------------------------------------------------------------------------------\n",
      "0  | loss                               | QuantileLoss                    | 0     \n",
      "1  | logging_metrics                    | ModuleList                      | 0     \n",
      "2  | input_embeddings                   | MultiEmbedding                  | 173   \n",
      "3  | prescalers                         | ModuleDict                      | 272   \n",
      "4  | static_variable_selection          | VariableSelectionNetwork        | 1.7 K \n",
      "5  | encoder_variable_selection         | VariableSelectionNetwork        | 10.7 K\n",
      "6  | decoder_variable_selection         | VariableSelectionNetwork        | 2.5 K \n",
      "7  | static_context_variable_selection  | GatedResidualNetwork            | 1.1 K \n",
      "8  | static_context_initial_hidden_lstm | GatedResidualNetwork            | 1.1 K \n",
      "9  | static_context_initial_cell_lstm   | GatedResidualNetwork            | 1.1 K \n",
      "10 | static_context_enrichment          | GatedResidualNetwork            | 1.1 K \n",
      "11 | lstm_encoder                       | LSTM                            | 2.2 K \n",
      "12 | lstm_decoder                       | LSTM                            | 2.2 K \n",
      "13 | post_lstm_gate_encoder             | GatedLinearUnit                 | 544   \n",
      "14 | post_lstm_add_norm_encoder         | AddNorm                         | 32    \n",
      "15 | static_enrichment                  | GatedResidualNetwork            | 1.4 K \n",
      "16 | multihead_attn                     | InterpretableMultiHeadAttention | 1.1 K \n",
      "17 | post_attn_gate_norm                | GateAddNorm                     | 576   \n",
      "18 | pos_wise_ff                        | GatedResidualNetwork            | 1.1 K \n",
      "19 | pre_output_gate_norm               | GateAddNorm                     | 576   \n",
      "20 | output_layer                       | Linear                          | 119   \n",
      "----------------------------------------------------------------------------------------\n",
      "29.3 K    Trainable params\n",
      "0         Non-trainable params\n",
      "29.3 K    Total params\n",
      "0.117     Total estimated model params size (MB)\n",
      "Global seed set to 42\n",
      "Finding best initial lr: 100%|███████████████████████████████████████████████████████████████████████████████████████████████████████████████████████████████████████████████| 100/100 [00:21<00:00,  4.64it/s]Restoring states from the checkpoint file at C:\\Users\\chris\\Documents\\GitHub\\arg\\lr_find_temp_model.ckpt\n",
      "Restored all states from the checkpoint file at C:\\Users\\chris\\Documents\\GitHub\\arg\\lr_find_temp_model.ckpt\n",
      "Finding best initial lr: 100%|███████████████████████████████████████████████████████████████████████████████████████████████████████████████████████████████████████████████| 100/100 [00:22<00:00,  4.52it/s]\n"
     ]
    },
    {
     "name": "stdout",
     "output_type": "stream",
     "text": [
      "suggested learning rate: 1.5488166189124817e-05\n"
     ]
    },
    {
     "data": {
      "image/png": "[encoded data removed]",
      "text/plain": [
       "<Figure size 432x288 with 1 Axes>"
      ]
     },
     "metadata": {
      "needs_background": "light"
     },
     "output_type": "display_data"
    }
   ],
   "source": [
    "# find optimal learning rate\n",
    "res = trainer.tuner.lr_find(\n",
    "    tft,\n",
    "    train_dataloaders=train_dataloader,\n",
    "    val_dataloaders=val_dataloader,\n",
    "    max_lr=10.0,\n",
    "    min_lr=1e-6,\n",
    ")\n",
    "\n",
    "print(f\"suggested learning rate: {res.suggestion()}\")\n",
    "fig = res.plot(show=True, suggest=True)\n",
    "fig.show()"
   ]
  },
  {
   "cell_type": "markdown",
   "id": "ff2e9ee4",
   "metadata": {},
   "source": [
    "#### Train the model"
   ]
  },
  {
   "cell_type": "code",
   "execution_count": 77,
   "id": "ad0d82dc",
   "metadata": {},
   "outputs": [
    {
     "name": "stderr",
     "output_type": "stream",
     "text": [
      "GPU available: True, used: True\n",
      "TPU available: False, using: 0 TPU cores\n",
      "IPU available: False, using: 0 IPUs\n"
     ]
    },
    {
     "name": "stdout",
     "output_type": "stream",
     "text": [
      "Number of parameters in network: 118.8k\n"
     ]
    }
   ],
   "source": [
    "# configure network and trainer\n",
    "early_stop_callback = EarlyStopping(monitor=\"val_loss\", min_delta=1e-4, patience=10, verbose=False, mode=\"min\")\n",
    "lr_logger = LearningRateMonitor()  # log the learning rate\n",
    "logger = TensorBoardLogger(\"lightning_logs\")  # logging results to a tensorboard\n",
    "\n",
    "trainer = pl.Trainer(\n",
    "    max_epochs=30,\n",
    "    gpus=1,\n",
    "    weights_summary=\"top\",\n",
    "    gradient_clip_val=0.1,\n",
    "    limit_train_batches=30,  # coment in for training, running valiation every 30 batches\n",
    "    # fast_dev_run=True,  # comment in to check that networkor dataset has no serious bugs\n",
    "    callbacks=[lr_logger, early_stop_callback],\n",
    "    logger=logger,\n",
    ")\n",
    "\n",
    "\n",
    "tft = TemporalFusionTransformer.from_dataset(\n",
    "    training,\n",
    "    learning_rate=0.05,\n",
    "    hidden_size=32,\n",
    "    attention_head_size=1,\n",
    "    dropout=0.2,\n",
    "    hidden_continuous_size=16,\n",
    "    output_size=7,  # 7 quantiles by default\n",
    "    loss=QuantileLoss(),\n",
    "    log_interval=10,  # uncomment for learning rate finder and otherwise, e.g. to 10 for logging every 10 batches\n",
    "    reduce_on_plateau_patience=4,\n",
    ")\n",
    "print(f\"Number of parameters in network: {tft.size()/1e3:.1f}k\")"
   ]
  },
  {
   "cell_type": "code",
   "execution_count": 78,
   "id": "4d0e2ac2",
   "metadata": {},
   "outputs": [
    {
     "name": "stderr",
     "output_type": "stream",
     "text": [
      "LOCAL_RANK: 0 - CUDA_VISIBLE_DEVICES: [0]\n",
      "\n",
      "   | Name                               | Type                            | Params\n",
      "----------------------------------------------------------------------------------------\n",
      "0  | loss                               | QuantileLoss                    | 0     \n",
      "1  | logging_metrics                    | ModuleList                      | 0     \n",
      "2  | input_embeddings                   | MultiEmbedding                  | 129   \n",
      "3  | prescalers                         | ModuleDict                      | 544   \n",
      "4  | static_variable_selection          | VariableSelectionNetwork        | 5.7 K \n",
      "5  | encoder_variable_selection         | VariableSelectionNetwork        | 30.9 K\n",
      "6  | decoder_variable_selection         | VariableSelectionNetwork        | 27.9 K\n",
      "7  | static_context_variable_selection  | GatedResidualNetwork            | 4.3 K \n",
      "8  | static_context_initial_hidden_lstm | GatedResidualNetwork            | 4.3 K \n",
      "9  | static_context_initial_cell_lstm   | GatedResidualNetwork            | 4.3 K \n",
      "10 | static_context_enrichment          | GatedResidualNetwork            | 4.3 K \n",
      "11 | lstm_encoder                       | LSTM                            | 8.4 K \n",
      "12 | lstm_decoder                       | LSTM                            | 8.4 K \n",
      "13 | post_lstm_gate_encoder             | GatedLinearUnit                 | 2.1 K \n",
      "14 | post_lstm_add_norm_encoder         | AddNorm                         | 64    \n",
      "15 | static_enrichment                  | GatedResidualNetwork            | 5.3 K \n",
      "16 | multihead_attn                     | InterpretableMultiHeadAttention | 4.2 K \n",
      "17 | post_attn_gate_norm                | GateAddNorm                     | 2.2 K \n",
      "18 | pos_wise_ff                        | GatedResidualNetwork            | 4.3 K \n",
      "19 | pre_output_gate_norm               | GateAddNorm                     | 2.2 K \n",
      "20 | output_layer                       | Linear                          | 231   \n",
      "----------------------------------------------------------------------------------------\n",
      "118 K     Trainable params\n",
      "0         Non-trainable params\n",
      "118 K     Total params\n",
      "0.475     Total estimated model params size (MB)\n"
     ]
    },
    {
     "name": "stdout",
     "output_type": "stream",
     "text": [
      "                                                                                                                                                                                                               "
     ]
    },
    {
     "name": "stderr",
     "output_type": "stream",
     "text": [
      "Global seed set to 42\n"
     ]
    },
    {
     "name": "stdout",
     "output_type": "stream",
     "text": [
      "Epoch 0:  97%|████████████████████████████████████████████████████████████████████████████████████████████████████████████████▎   | 30/31 [00:22<00:00,  1.40it/s, loss=0.148, v_num=12, train_loss_step=0.145]\n",
      "Validating: 0it [00:00, ?it/s]\u001b[A\n",
      "Validating:   0%|                                                                                                                                                                        | 0/1 [00:00<?, ?it/s]\u001b[A\n",
      "Epoch 0: 100%|████████████████████████████████████████████████████████████████████████████████████████████████████| 31/31 [00:22<00:00,  1.39it/s, loss=0.148, v_num=12, train_loss_step=0.145, val_loss=0.153]\u001b[A\n",
      "Epoch 1:  97%|█████████████████████████████████████████████████████████████████████████▌  | 30/31 [00:22<00:00,  1.38it/s, loss=0.116, v_num=12, train_loss_step=0.104, val_loss=0.153, train_loss_epoch=0.185]\u001b[A\n",
      "Validating: 0it [00:00, ?it/s]\u001b[A\n",
      "Validating:   0%|                                                                                                                                                                        | 0/1 [00:00<?, ?it/s]\u001b[A\n",
      "Epoch 1: 100%|███████████████████████████████████████████████████████████████████████████| 31/31 [00:23<00:00,  1.38it/s, loss=0.116, v_num=12, train_loss_step=0.104, val_loss=0.0839, train_loss_epoch=0.185]\u001b[A\n",
      "Epoch 2:  97%|██████████████████████████████████████████████████████████████████████▋  | 30/31 [00:22<00:00,  1.41it/s, loss=0.0882, v_num=12, train_loss_step=0.0787, val_loss=0.0839, train_loss_epoch=0.121]\u001b[A\n",
      "Validating: 0it [00:00, ?it/s]\u001b[A\n",
      "Validating:   0%|                                                                                                                                                                        | 0/1 [00:00<?, ?it/s]\u001b[A\n",
      "Epoch 2: 100%|█████████████████████████████████████████████████████████████████████████| 31/31 [00:22<00:00,  1.40it/s, loss=0.0882, v_num=12, train_loss_step=0.0787, val_loss=0.0676, train_loss_epoch=0.121]\u001b[A\n",
      "Epoch 3:  97%|█████████████████████████████████████████████████████████████████████▋  | 30/31 [00:22<00:00,  1.41it/s, loss=0.0747, v_num=12, train_loss_step=0.0693, val_loss=0.0676, train_loss_epoch=0.0917]\u001b[A\n",
      "Validating: 0it [00:00, ?it/s]\u001b[A\n",
      "Validating:   0%|                                                                                                                                                                        | 0/1 [00:00<?, ?it/s]\u001b[A\n",
      "Epoch 3: 100%|████████████████████████████████████████████████████████████████████████| 31/31 [00:23<00:00,  1.38it/s, loss=0.0747, v_num=12, train_loss_step=0.0693, val_loss=0.0901, train_loss_epoch=0.0917]\u001b[A\n",
      "Epoch 4:  97%|█████████████████████████████████████████████████████████████████████▋  | 30/31 [00:21<00:00,  1.41it/s, loss=0.0662, v_num=12, train_loss_step=0.0689, val_loss=0.0901, train_loss_epoch=0.0767]\u001b[A\n",
      "Validating: 0it [00:00, ?it/s]\u001b[A\n",
      "Validating:   0%|                                                                                                                                                                        | 0/1 [00:00<?, ?it/s]\u001b[A\n",
      "Epoch 4: 100%|████████████████████████████████████████████████████████████████████████| 31/31 [00:22<00:00,  1.41it/s, loss=0.0662, v_num=12, train_loss_step=0.0689, val_loss=0.0644, train_loss_epoch=0.0767]\u001b[A\n",
      "Epoch 5:  97%|█████████████████████████████████████████████████████████████████████▋  | 30/31 [00:21<00:00,  1.42it/s, loss=0.0578, v_num=12, train_loss_step=0.0564, val_loss=0.0644, train_loss_epoch=0.0664]\u001b[A\n",
      "Validating: 0it [00:00, ?it/s]\u001b[A\n",
      "Validating:   0%|                                                                                                                                                                        | 0/1 [00:00<?, ?it/s]\u001b[A\n",
      "Epoch 5: 100%|████████████████████████████████████████████████████████████████████████| 31/31 [00:22<00:00,  1.42it/s, loss=0.0578, v_num=12, train_loss_step=0.0564, val_loss=0.0758, train_loss_epoch=0.0664]\u001b[A\n",
      "Epoch 6:  97%|█████████████████████████████████████████████████████████████████████▋  | 30/31 [00:22<00:00,  1.39it/s, loss=0.0541, v_num=12, train_loss_step=0.0497, val_loss=0.0758, train_loss_epoch=0.0584]\u001b[A\n",
      "Validating: 0it [00:00, ?it/s]\u001b[A\n",
      "Validating:   0%|                                                                                                                                                                        | 0/1 [00:00<?, ?it/s]\u001b[A\n",
      "Epoch 6: 100%|████████████████████████████████████████████████████████████████████████| 31/31 [00:23<00:00,  1.39it/s, loss=0.0541, v_num=12, train_loss_step=0.0497, val_loss=0.0642, train_loss_epoch=0.0584]\u001b[A\n",
      "Epoch 7:  97%|█████████████████████████████████████████████████████████████████████▋  | 30/31 [00:21<00:00,  1.41it/s, loss=0.0485, v_num=12, train_loss_step=0.0462, val_loss=0.0642, train_loss_epoch=0.0541]\u001b[A\n",
      "Validating: 0it [00:00, ?it/s]\u001b[A\n",
      "Validating:   0%|                                                                                                                                                                        | 0/1 [00:00<?, ?it/s]\u001b[A\n",
      "Epoch 7: 100%|████████████████████████████████████████████████████████████████████████| 31/31 [00:22<00:00,  1.41it/s, loss=0.0485, v_num=12, train_loss_step=0.0462, val_loss=0.0596, train_loss_epoch=0.0541]\u001b[A\n",
      "Epoch 8:  97%|██████████████████████████████████████████████████████████████████████▋  | 30/31 [00:21<00:00,  1.41it/s, loss=0.0473, v_num=12, train_loss_step=0.0509, val_loss=0.0596, train_loss_epoch=0.049]\u001b[A\n",
      "Validating: 0it [00:00, ?it/s]\u001b[A\n",
      "Validating:   0%|                                                                                                                                                                        | 0/1 [00:00<?, ?it/s]\u001b[A\n",
      "Epoch 8: 100%|██████████████████████████████████████████████████████████████████████████| 31/31 [00:22<00:00,  1.41it/s, loss=0.0473, v_num=12, train_loss_step=0.0509, val_loss=0.073, train_loss_epoch=0.049]\u001b[A\n",
      "Epoch 9:  97%|███████████████████████████████████████████████████████████████████████▌  | 30/31 [00:22<00:00,  1.38it/s, loss=0.048, v_num=12, train_loss_step=0.0468, val_loss=0.073, train_loss_epoch=0.0482]\u001b[A\n",
      "Validating: 0it [00:00, ?it/s]\u001b[A\n",
      "Validating:   0%|                                                                                                                                                                        | 0/1 [00:00<?, ?it/s]\u001b[A\n",
      "Epoch 9: 100%|█████████████████████████████████████████████████████████████████████████| 31/31 [00:23<00:00,  1.37it/s, loss=0.048, v_num=12, train_loss_step=0.0468, val_loss=0.0743, train_loss_epoch=0.0482]\u001b[A\n",
      "Epoch 10:  97%|████████████████████████████████████████████████████████████████████▋  | 30/31 [00:22<00:00,  1.38it/s, loss=0.0457, v_num=12, train_loss_step=0.0538, val_loss=0.0743, train_loss_epoch=0.0472]\u001b[A\n",
      "Validating: 0it [00:00, ?it/s]\u001b[A\n",
      "Validating:   0%|                                                                                                                                                                        | 0/1 [00:00<?, ?it/s]\u001b[A\n",
      "Epoch 10: 100%|███████████████████████████████████████████████████████████████████████| 31/31 [00:23<00:00,  1.38it/s, loss=0.0457, v_num=12, train_loss_step=0.0538, val_loss=0.0821, train_loss_epoch=0.0472]\u001b[A\n",
      "Epoch 11:  97%|████████████████████████████████████████████████████████████████████▋  | 30/31 [00:22<00:00,  1.39it/s, loss=0.0419, v_num=12, train_loss_step=0.0377, val_loss=0.0821, train_loss_epoch=0.0455]\u001b[A\n",
      "Validating: 0it [00:00, ?it/s]\u001b[A\n",
      "Validating:   0%|                                                                                                                                                                        | 0/1 [00:00<?, ?it/s]\u001b[A\n",
      "Epoch 11: 100%|███████████████████████████████████████████████████████████████████████| 31/31 [00:23<00:00,  1.39it/s, loss=0.0419, v_num=12, train_loss_step=0.0377, val_loss=0.0824, train_loss_epoch=0.0455]\u001b[A\n"
     ]
    },
    {
     "name": "stdout",
     "output_type": "stream",
     "text": [
      "Epoch 12:  97%|████████████████████████████████████████████████████████████████████▋  | 30/31 [00:22<00:00,  1.41it/s, loss=0.0416, v_num=12, train_loss_step=0.0365, val_loss=0.0824, train_loss_epoch=0.0426]\u001b[A\n",
      "Validating: 0it [00:00, ?it/s]\u001b[A\n",
      "Validating:   0%|                                                                                                                                                                        | 0/1 [00:00<?, ?it/s]\u001b[A\n",
      "Epoch 12: 100%|███████████████████████████████████████████████████████████████████████| 31/31 [00:23<00:00,  1.38it/s, loss=0.0416, v_num=12, train_loss_step=0.0365, val_loss=0.0755, train_loss_epoch=0.0426]\u001b[A\n",
      "Epoch 13:  97%|████████████████████████████████████████████████████████████████████▋  | 30/31 [00:22<00:00,  1.37it/s, loss=0.0365, v_num=12, train_loss_step=0.0345, val_loss=0.0755, train_loss_epoch=0.0418]\u001b[A\n",
      "Validating: 0it [00:00, ?it/s]\u001b[A\n",
      "Validating:   0%|                                                                                                                                                                        | 0/1 [00:00<?, ?it/s]\u001b[A\n",
      "Epoch 13: 100%|███████████████████████████████████████████████████████████████████████| 31/31 [00:23<00:00,  1.37it/s, loss=0.0365, v_num=12, train_loss_step=0.0345, val_loss=0.0788, train_loss_epoch=0.0418]\u001b[A\n",
      "Epoch 14:  97%|█████████████████████████████████████████████████████████████████████▋  | 30/31 [00:22<00:00,  1.40it/s, loss=0.0355, v_num=12, train_loss_step=0.0361, val_loss=0.0788, train_loss_epoch=0.037]\u001b[A\n",
      "Validating: 0it [00:00, ?it/s]\u001b[A\n",
      "Validating:   0%|                                                                                                                                                                        | 0/1 [00:00<?, ?it/s]\u001b[A\n",
      "Epoch 14: 100%|█████████████████████████████████████████████████████████████████████████| 31/31 [00:22<00:00,  1.40it/s, loss=0.0355, v_num=12, train_loss_step=0.0361, val_loss=0.090, train_loss_epoch=0.037]\u001b[A\n",
      "Epoch 15:  97%|█████████████████████████████████████████████████████████████████████▋  | 30/31 [00:22<00:00,  1.40it/s, loss=0.0354, v_num=12, train_loss_step=0.0339, val_loss=0.090, train_loss_epoch=0.0357]\u001b[A\n",
      "Validating: 0it [00:00, ?it/s]\u001b[A\n",
      "Validating:   0%|                                                                                                                                                                        | 0/1 [00:00<?, ?it/s]\u001b[A\n",
      "Epoch 15: 100%|███████████████████████████████████████████████████████████████████████| 31/31 [00:22<00:00,  1.39it/s, loss=0.0354, v_num=12, train_loss_step=0.0339, val_loss=0.0887, train_loss_epoch=0.0357]\u001b[A\n",
      "Epoch 16:  97%|████████████████████████████████████████████████████████████████████▋  | 30/31 [00:22<00:00,  1.39it/s, loss=0.0349, v_num=12, train_loss_step=0.0347, val_loss=0.0887, train_loss_epoch=0.0356]\u001b[A\n",
      "Validating: 0it [00:00, ?it/s]\u001b[A\n",
      "Validating:   0%|                                                                                                                                                                        | 0/1 [00:00<?, ?it/s]\u001b[A\n",
      "Epoch 16: 100%|████████████████████████████████████████████████████████████████████████| 31/31 [00:23<00:00,  1.39it/s, loss=0.0349, v_num=12, train_loss_step=0.0347, val_loss=0.087, train_loss_epoch=0.0356]\u001b[A\n",
      "Epoch 17:  97%|█████████████████████████████████████████████████████████████████████▋  | 30/31 [00:22<00:00,  1.39it/s, loss=0.0346, v_num=12, train_loss_step=0.0346, val_loss=0.087, train_loss_epoch=0.0352]\u001b[A\n",
      "Validating: 0it [00:00, ?it/s]\u001b[A\n",
      "Validating:   0%|                                                                                                                                                                        | 0/1 [00:00<?, ?it/s]\u001b[A\n",
      "Epoch 17: 100%|███████████████████████████████████████████████████████████████████████| 31/31 [00:23<00:00,  1.38it/s, loss=0.0346, v_num=12, train_loss_step=0.0346, val_loss=0.0889, train_loss_epoch=0.0352]\u001b[A\n",
      "Epoch 17: 100%|███████████████████████████████████████████████████████████████████████| 31/31 [00:24<00:00,  1.30it/s, loss=0.0346, v_num=12, train_loss_step=0.0346, val_loss=0.0889, train_loss_epoch=0.0352]\u001b[A\n"
     ]
    }
   ],
   "source": [
    "# fit network\n",
    "trainer.fit(\n",
    "    tft,\n",
    "    train_dataloaders=train_dataloader,\n",
    "    val_dataloaders=val_dataloader,\n",
    ")"
   ]
  },
  {
   "cell_type": "code",
   "execution_count": 79,
   "id": "2facb5c7",
   "metadata": {},
   "outputs": [
    {
     "data": {
      "text/plain": [
       "tensor(0.2546)"
      ]
     },
     "execution_count": 79,
     "metadata": {},
     "output_type": "execute_result"
    }
   ],
   "source": [
    "actuals = torch.cat([y[0] for x, y in iter(val_dataloader)])\n",
    "predictions = tft.predict(val_dataloader)\n",
    "(actuals - predictions).abs().mean()"
   ]
  },
  {
   "cell_type": "code",
   "execution_count": 80,
   "id": "7f81f049",
   "metadata": {},
   "outputs": [],
   "source": [
    "raw_predictions, x = tft.predict(val_dataloader, mode=\"raw\", return_x=True)"
   ]
  },
  {
   "cell_type": "code",
   "execution_count": 85,
   "id": "ac581e9c",
   "metadata": {},
   "outputs": [
    {
     "data": {
      "text/plain": [
       "7"
      ]
     },
     "execution_count": 85,
     "metadata": {},
     "output_type": "execute_result"
    }
   ],
   "source": [
    "len(raw_predictions)"
   ]
  },
  {
   "cell_type": "code",
   "execution_count": 87,
   "id": "c8efd607",
   "metadata": {},
   "outputs": [
    {
     "data": {
      "image/png": "[encoded data removed]",
      "text/plain": [
       "<Figure size 432x288 with 2 Axes>"
      ]
     },
     "metadata": {
      "needs_background": "light"
     },
     "output_type": "display_data"
    }
   ],
   "source": [
    "tft.plot_prediction(x, raw_predictions, idx=0, add_loss_to_title=True);"
   ]
  },
  {
   "cell_type": "markdown",
   "id": "0c437bd3",
   "metadata": {},
   "source": [
    "## Longer prediction window"
   ]
  },
  {
   "cell_type": "markdown",
   "id": "ed7f51b7",
   "metadata": {},
   "source": [
    "### Create TimeSeriesDataSet"
   ]
  },
  {
   "cell_type": "code",
   "execution_count": 101,
   "id": "c31d8129",
   "metadata": {},
   "outputs": [],
   "source": [
    "max_prediction_length = 360\n",
    "max_encoder_length = 360\n",
    "training_cutoff = data[\"time_idx\"].max() - max_prediction_length\n",
    "\n",
    "training = TimeSeriesDataSet(\n",
    "    data[lambda x: x.time_idx <= training_cutoff],\n",
    "    time_idx=\"time_idx\",\n",
    "    target=\"Log_Cn2\",\n",
    "    group_ids=[\"group\"],\n",
    "    min_encoder_length=max_encoder_length // 2,  # keep encoder length long (as it is in the validation set)\n",
    "    max_encoder_length=max_encoder_length,\n",
    "    min_prediction_length=1,\n",
    "    max_prediction_length=max_prediction_length,\n",
    "    #static_categoricals=[\"group\"],\n",
    "    #static_reals=[\"avg_population_2017\", \"avg_yearly_household_income_2017\"],\n",
    "    time_varying_known_categoricals=[\"month\"],\n",
    "    #variable_groups={\"special_days\": special_days},  # group of categorical variables can be treated as one variable\n",
    "    time_varying_known_reals=[\"time_idx\", \"Sunrise_Time\", \"Sunset_Time\",         \n",
    "                              \"Air_Temperature\",\n",
    "        \"Relative_Humidity\",\n",
    "        \"Dew_Point_Temperature\",\n",
    "        \"Wind_Speed\",\n",
    "        \"Pressure\",\n",
    "        \"Solar_Radiation\",\n",
    "        \"UV_Index\",\n",
    "        \"Air_Density\",\n",
    "        \"Air_Water_Temperature_Difference\"    ],\n",
    "    time_varying_unknown_categoricals=[\"Wind_Direction\"],\n",
    "    time_varying_unknown_reals=[\n",
    "        \"Log_Cn2\", \n",
    "    ],\n",
    "    #allow_missing_timesteps=True,\n",
    "    add_relative_time_idx=True,\n",
    "    add_target_scales=True,\n",
    "    add_encoder_length=True,\n",
    ")\n",
    "\n",
    "# create validation set (predict=True) which means to predict the last max_prediction_length points in time\n",
    "# for each series\n",
    "validation = TimeSeriesDataSet.from_dataset(training, data, predict=True, stop_randomization=True)\n",
    "\n",
    "# create dataloaders for model\n",
    "batch_size = 64  # set this between 32 to 128\n",
    "train_dataloader = training.to_dataloader(train=True, batch_size=batch_size, num_workers=0)\n",
    "val_dataloader = validation.to_dataloader(train=False, batch_size=batch_size * 10, num_workers=0)"
   ]
  },
  {
   "cell_type": "markdown",
   "id": "f5391472",
   "metadata": {},
   "source": [
    "### PyTorch Forecasting"
   ]
  },
  {
   "cell_type": "markdown",
   "id": "29df0aee",
   "metadata": {},
   "source": [
    "#### Train the model"
   ]
  },
  {
   "cell_type": "code",
   "execution_count": 102,
   "id": "50b4a990",
   "metadata": {},
   "outputs": [
    {
     "name": "stderr",
     "output_type": "stream",
     "text": [
      "GPU available: True, used: True\n",
      "TPU available: False, using: 0 TPU cores\n",
      "IPU available: False, using: 0 IPUs\n"
     ]
    },
    {
     "name": "stdout",
     "output_type": "stream",
     "text": [
      "Number of parameters in network: 118.8k\n"
     ]
    }
   ],
   "source": [
    "# configure network and trainer\n",
    "early_stop_callback = EarlyStopping(monitor=\"val_loss\", min_delta=1e-4, patience=10, verbose=False, mode=\"min\")\n",
    "lr_logger = LearningRateMonitor()  # log the learning rate\n",
    "logger = TensorBoardLogger(\"lightning_logs\")  # logging results to a tensorboard\n",
    "\n",
    "trainer = pl.Trainer(\n",
    "    max_epochs=30,\n",
    "    gpus=1,\n",
    "    weights_summary=\"top\",\n",
    "    gradient_clip_val=0.1,\n",
    "    limit_train_batches=30,  # coment in for training, running valiation every 30 batches\n",
    "    # fast_dev_run=True,  # comment in to check that networkor dataset has no serious bugs\n",
    "    callbacks=[lr_logger, early_stop_callback],\n",
    "    logger=logger,\n",
    ")\n",
    "\n",
    "\n",
    "tft = TemporalFusionTransformer.from_dataset(\n",
    "    training,\n",
    "    learning_rate=0.05,\n",
    "    hidden_size=32,\n",
    "    attention_head_size=1,\n",
    "    dropout=0.2,\n",
    "    hidden_continuous_size=16,\n",
    "    output_size=7,  # 7 quantiles by default\n",
    "    loss=QuantileLoss(),\n",
    "    log_interval=10,  # uncomment for learning rate finder and otherwise, e.g. to 10 for logging every 10 batches\n",
    "    reduce_on_plateau_patience=4,\n",
    ")\n",
    "print(f\"Number of parameters in network: {tft.size()/1e3:.1f}k\")"
   ]
  },
  {
   "cell_type": "code",
   "execution_count": 103,
   "id": "99269e0a",
   "metadata": {
    "scrolled": false
   },
   "outputs": [
    {
     "name": "stderr",
     "output_type": "stream",
     "text": [
      "LOCAL_RANK: 0 - CUDA_VISIBLE_DEVICES: [0]\n",
      "\n",
      "   | Name                               | Type                            | Params\n",
      "----------------------------------------------------------------------------------------\n",
      "0  | loss                               | QuantileLoss                    | 0     \n",
      "1  | logging_metrics                    | ModuleList                      | 0     \n",
      "2  | input_embeddings                   | MultiEmbedding                  | 137   \n",
      "3  | prescalers                         | ModuleDict                      | 544   \n",
      "4  | static_variable_selection          | VariableSelectionNetwork        | 5.7 K \n",
      "5  | encoder_variable_selection         | VariableSelectionNetwork        | 30.9 K\n",
      "6  | decoder_variable_selection         | VariableSelectionNetwork        | 27.9 K\n",
      "7  | static_context_variable_selection  | GatedResidualNetwork            | 4.3 K \n",
      "8  | static_context_initial_hidden_lstm | GatedResidualNetwork            | 4.3 K \n",
      "9  | static_context_initial_cell_lstm   | GatedResidualNetwork            | 4.3 K \n",
      "10 | static_context_enrichment          | GatedResidualNetwork            | 4.3 K \n",
      "11 | lstm_encoder                       | LSTM                            | 8.4 K \n",
      "12 | lstm_decoder                       | LSTM                            | 8.4 K \n",
      "13 | post_lstm_gate_encoder             | GatedLinearUnit                 | 2.1 K \n",
      "14 | post_lstm_add_norm_encoder         | AddNorm                         | 64    \n",
      "15 | static_enrichment                  | GatedResidualNetwork            | 5.3 K \n",
      "16 | multihead_attn                     | InterpretableMultiHeadAttention | 4.2 K \n",
      "17 | post_attn_gate_norm                | GateAddNorm                     | 2.2 K \n",
      "18 | pos_wise_ff                        | GatedResidualNetwork            | 4.3 K \n",
      "19 | pre_output_gate_norm               | GateAddNorm                     | 2.2 K \n",
      "20 | output_layer                       | Linear                          | 231   \n",
      "----------------------------------------------------------------------------------------\n",
      "118 K     Trainable params\n",
      "0         Non-trainable params\n",
      "118 K     Total params\n",
      "0.475     Total estimated model params size (MB)\n"
     ]
    },
    {
     "name": "stdout",
     "output_type": "stream",
     "text": [
      "                                                                                                                                                                                                               "
     ]
    },
    {
     "name": "stderr",
     "output_type": "stream",
     "text": [
      "Global seed set to 42\n"
     ]
    },
    {
     "name": "stdout",
     "output_type": "stream",
     "text": [
      "Epoch 0:  97%|████████████████████████████████████████████████████████████████████████████████████████████████████████████████▎   | 30/31 [00:32<00:01,  1.05s/it, loss=0.172, v_num=13, train_loss_step=0.156]\n",
      "Validating: 0it [00:00, ?it/s]\u001b[A\n",
      "Validating:   0%|                                                                                                                                                                        | 0/1 [00:00<?, ?it/s]\u001b[A\n",
      "Epoch 0: 100%|████████████████████████████████████████████████████████████████████████████████████████████████████| 31/31 [00:33<00:00,  1.04s/it, loss=0.172, v_num=13, train_loss_step=0.156, val_loss=0.168]\u001b[A\n",
      "Epoch 1:  97%|█████████████████████████████████████████████████████████████████████████▌  | 30/31 [00:32<00:01,  1.05s/it, loss=0.136, v_num=13, train_loss_step=0.129, val_loss=0.168, train_loss_epoch=0.215]\u001b[A\n",
      "Validating: 0it [00:00, ?it/s]\u001b[A\n",
      "Validating:   0%|                                                                                                                                                                        | 0/1 [00:00<?, ?it/s]\u001b[A\n",
      "Epoch 1: 100%|████████████████████████████████████████████████████████████████████████████| 31/31 [00:33<00:00,  1.04s/it, loss=0.136, v_num=13, train_loss_step=0.129, val_loss=0.118, train_loss_epoch=0.215]\u001b[A\n",
      "Epoch 2:  97%|████████████████████████████████████████████████████████████████████████▌  | 30/31 [00:32<00:01,  1.05s/it, loss=0.106, v_num=13, train_loss_step=0.0985, val_loss=0.118, train_loss_epoch=0.141]\u001b[A\n",
      "Validating: 0it [00:00, ?it/s]\u001b[A\n",
      "Validating:   0%|                                                                                                                                                                        | 0/1 [00:00<?, ?it/s]\u001b[A\n",
      "Epoch 2: 100%|███████████████████████████████████████████████████████████████████████████| 31/31 [00:33<00:00,  1.04s/it, loss=0.106, v_num=13, train_loss_step=0.0985, val_loss=0.111, train_loss_epoch=0.141]\u001b[A\n",
      "Epoch 3:  97%|███████████████████████████████████████████████████████████████████████▌  | 30/31 [00:33<00:01,  1.09s/it, loss=0.0928, v_num=13, train_loss_step=0.0861, val_loss=0.111, train_loss_epoch=0.109]\u001b[A\n",
      "Validating: 0it [00:00, ?it/s]\u001b[A\n",
      "Validating:   0%|                                                                                                                                                                        | 0/1 [00:00<?, ?it/s]\u001b[A\n",
      "Epoch 3: 100%|██████████████████████████████████████████████████████████████████████████| 31/31 [00:34<00:00,  1.08s/it, loss=0.0928, v_num=13, train_loss_step=0.0861, val_loss=0.127, train_loss_epoch=0.109]\u001b[A\n",
      "Epoch 4:  97%|███████████████████████████████████████████████████████████████████████▌  | 30/31 [00:32<00:01,  1.05s/it, loss=0.0861, v_num=13, train_loss_step=0.0891, val_loss=0.127, train_loss_epoch=0.095]\u001b[A\n",
      "Validating: 0it [00:00, ?it/s]\u001b[A\n",
      "Validating:   0%|                                                                                                                                                                        | 0/1 [00:00<?, ?it/s]\u001b[A\n",
      "Epoch 4: 100%|██████████████████████████████████████████████████████████████████████████| 31/31 [00:33<00:00,  1.04s/it, loss=0.0861, v_num=13, train_loss_step=0.0891, val_loss=0.119, train_loss_epoch=0.095]\u001b[A\n",
      "Epoch 5:  97%|███████████████████████████████████████████████████████████████████████▌  | 30/31 [00:32<00:01,  1.05s/it, loss=0.078, v_num=13, train_loss_step=0.0822, val_loss=0.119, train_loss_epoch=0.0871]\u001b[A\n",
      "Validating: 0it [00:00, ?it/s]\u001b[A\n",
      "Validating:   0%|                                                                                                                                                                        | 0/1 [00:00<?, ?it/s]\u001b[A\n",
      "Epoch 5: 100%|██████████████████████████████████████████████████████████████████████████| 31/31 [00:33<00:00,  1.04s/it, loss=0.078, v_num=13, train_loss_step=0.0822, val_loss=0.120, train_loss_epoch=0.0871]\u001b[A\n",
      "Epoch 6:  97%|██████████████████████████████████████████████████████████████████████▋  | 30/31 [00:32<00:01,  1.05s/it, loss=0.0744, v_num=13, train_loss_step=0.0854, val_loss=0.120, train_loss_epoch=0.0796]\u001b[A\n",
      "Validating: 0it [00:00, ?it/s]\u001b[A\n",
      "Validating:   0%|                                                                                                                                                                        | 0/1 [00:00<?, ?it/s]\u001b[A\n",
      "Epoch 6: 100%|█████████████████████████████████████████████████████████████████████████| 31/31 [00:33<00:00,  1.04s/it, loss=0.0744, v_num=13, train_loss_step=0.0854, val_loss=0.122, train_loss_epoch=0.0796]\u001b[A\n",
      "Epoch 7:  97%|███████████████████████████████████████████████████████████████████████▌  | 30/31 [00:32<00:01,  1.05s/it, loss=0.0705, v_num=13, train_loss_step=0.0682, val_loss=0.122, train_loss_epoch=0.074]\u001b[A\n",
      "Validating: 0it [00:00, ?it/s]\u001b[A\n",
      "Validating:   0%|                                                                                                                                                                        | 0/1 [00:00<?, ?it/s]\u001b[A\n",
      "Epoch 7: 100%|██████████████████████████████████████████████████████████████████████████| 31/31 [00:33<00:00,  1.04s/it, loss=0.0705, v_num=13, train_loss_step=0.0682, val_loss=0.117, train_loss_epoch=0.074]\u001b[A\n",
      "Epoch 8:  97%|███████████████████████████████████████████████████████████████████████▌  | 30/31 [00:32<00:01,  1.05s/it, loss=0.0632, v_num=13, train_loss_step=0.061, val_loss=0.117, train_loss_epoch=0.0711]\u001b[A\n",
      "Validating: 0it [00:00, ?it/s]\u001b[A\n",
      "Validating:   0%|                                                                                                                                                                        | 0/1 [00:00<?, ?it/s]\u001b[A\n",
      "Epoch 8: 100%|██████████████████████████████████████████████████████████████████████████| 31/31 [00:33<00:00,  1.05s/it, loss=0.0632, v_num=13, train_loss_step=0.061, val_loss=0.121, train_loss_epoch=0.0711]\u001b[A\n",
      "Epoch 9:  97%|██████████████████████████████████████████████████████████████████████▋  | 30/31 [00:32<00:01,  1.05s/it, loss=0.0621, v_num=13, train_loss_step=0.0616, val_loss=0.121, train_loss_epoch=0.0637]\u001b[A\n",
      "Validating: 0it [00:00, ?it/s]\u001b[A\n",
      "Validating:   0%|                                                                                                                                                                        | 0/1 [00:00<?, ?it/s]\u001b[A\n",
      "Epoch 9: 100%|█████████████████████████████████████████████████████████████████████████| 31/31 [00:33<00:00,  1.04s/it, loss=0.0621, v_num=13, train_loss_step=0.0616, val_loss=0.119, train_loss_epoch=0.0637]\u001b[A\n",
      "Epoch 10:  97%|█████████████████████████████████████████████████████████████████████▋  | 30/31 [00:32<00:01,  1.05s/it, loss=0.0605, v_num=13, train_loss_step=0.0624, val_loss=0.119, train_loss_epoch=0.0622]\u001b[A\n",
      "Validating: 0it [00:00, ?it/s]\u001b[A\n",
      "Validating:   0%|                                                                                                                                                                        | 0/1 [00:00<?, ?it/s]\u001b[A\n",
      "Epoch 10: 100%|████████████████████████████████████████████████████████████████████████| 31/31 [00:33<00:00,  1.04s/it, loss=0.0605, v_num=13, train_loss_step=0.0624, val_loss=0.118, train_loss_epoch=0.0622]\u001b[A\n",
      "Epoch 11:  97%|██████████████████████████████████████████████████████████████████████▋  | 30/31 [00:32<00:01,  1.05s/it, loss=0.0609, v_num=13, train_loss_step=0.0604, val_loss=0.118, train_loss_epoch=0.061]\u001b[A\n",
      "Validating: 0it [00:00, ?it/s]\u001b[A\n",
      "Validating:   0%|                                                                                                                                                                        | 0/1 [00:00<?, ?it/s]\u001b[A\n",
      "Epoch 11: 100%|█████████████████████████████████████████████████████████████████████████| 31/31 [00:33<00:00,  1.04s/it, loss=0.0609, v_num=13, train_loss_step=0.0604, val_loss=0.114, train_loss_epoch=0.061]\u001b[A\n"
     ]
    },
    {
     "name": "stdout",
     "output_type": "stream",
     "text": [
      "Epoch 12:  97%|██████████████████████████████████████████████████████████████████████▋  | 30/31 [00:32<00:01,  1.05s/it, loss=0.0595, v_num=13, train_loss_step=0.058, val_loss=0.114, train_loss_epoch=0.0607]\u001b[A\n",
      "Validating: 0it [00:00, ?it/s]\u001b[A\n",
      "Validating:   0%|                                                                                                                                                                        | 0/1 [00:00<?, ?it/s]\u001b[A\n",
      "Epoch 12: 100%|█████████████████████████████████████████████████████████████████████████| 31/31 [00:33<00:00,  1.04s/it, loss=0.0595, v_num=13, train_loss_step=0.058, val_loss=0.113, train_loss_epoch=0.0607]\u001b[A\n",
      "Epoch 12: 100%|█████████████████████████████████████████████████████████████████████████| 31/31 [00:34<00:00,  1.08s/it, loss=0.0595, v_num=13, train_loss_step=0.058, val_loss=0.113, train_loss_epoch=0.0607]\u001b[A\n"
     ]
    }
   ],
   "source": [
    "# fit network\n",
    "trainer.fit(\n",
    "    tft,\n",
    "    train_dataloaders=train_dataloader,\n",
    "    val_dataloaders=val_dataloader,\n",
    ")"
   ]
  },
  {
   "cell_type": "code",
   "execution_count": 104,
   "id": "7566b8de",
   "metadata": {},
   "outputs": [
    {
     "data": {
      "text/plain": [
       "tensor(0.4306)"
      ]
     },
     "execution_count": 104,
     "metadata": {},
     "output_type": "execute_result"
    }
   ],
   "source": [
    "actuals = torch.cat([y[0] for x, y in iter(val_dataloader)])\n",
    "predictions = tft.predict(val_dataloader)\n",
    "(actuals - predictions).abs().mean()"
   ]
  },
  {
   "cell_type": "code",
   "execution_count": 105,
   "id": "2da7e42e",
   "metadata": {},
   "outputs": [],
   "source": [
    "raw_predictions, x = tft.predict(val_dataloader, mode=\"raw\", return_x=True)"
   ]
  },
  {
   "cell_type": "code",
   "execution_count": 106,
   "id": "7c9add12",
   "metadata": {},
   "outputs": [
    {
     "data": {
      "text/plain": [
       "7"
      ]
     },
     "execution_count": 106,
     "metadata": {},
     "output_type": "execute_result"
    }
   ],
   "source": [
    "len(raw_predictions)"
   ]
  },
  {
   "cell_type": "code",
   "execution_count": 107,
   "id": "8346a622",
   "metadata": {},
   "outputs": [
    {
     "data": {
      "image/png": "[encoded data removed]",
      "text/plain": [
       "<Figure size 432x288 with 2 Axes>"
      ]
     },
     "metadata": {
      "needs_background": "light"
     },
     "output_type": "display_data"
    }
   ],
   "source": [
    "tft.plot_prediction(x, raw_predictions, idx=0, add_loss_to_title=True);"
   ]
  },
  {
   "cell_type": "markdown",
   "id": "fd2f685b",
   "metadata": {},
   "source": [
    "### Create a limited, masked plot for basic vizualization"
   ]
  },
  {
   "cell_type": "code",
   "execution_count": null,
   "id": "3749bf84",
   "metadata": {},
   "outputs": [],
   "source": [
    "df_plot_mask = ((df['Timestamp'] >= dt.datetime(2020, 1, 1, 0, 0))&(df['Timestamp'] <= dt.datetime(2020, 7, 17, 0, 0)))\n",
    "df_plot = df.loc[df_plot_mask]\n",
    "\n",
    "#%% define the training and validation masks and data sets\n",
    "# Time series plot of one day\n",
    "df_test_mask = (df_plot['Timestamp'] <= dt.datetime(2020, 6, 15, 19, 20))\n",
    "df_plot_test = df_plot.loc[df_test_mask]\n",
    "\n",
    "df_val_mask = (df_plot['Timestamp'] >= dt.datetime(2020, 6, 15, 19, 30))\n",
    "df_plot_val = df_plot.loc[df_val_mask]"
   ]
  },
  {
   "cell_type": "markdown",
   "id": "f5d074ae",
   "metadata": {},
   "source": [
    "#### Run a basic plot"
   ]
  },
  {
   "cell_type": "code",
   "execution_count": null,
   "id": "e5c1fe93",
   "metadata": {},
   "outputs": [],
   "source": [
    "from utils.figures import plotYearlyJointKDE"
   ]
  },
  {
   "cell_type": "code",
   "execution_count": null,
   "id": "40775188",
   "metadata": {},
   "outputs": [],
   "source": [
    "plotYearlyJointKDE(df,'Air_Water_Temperature_Difference','Log_Cn2')"
   ]
  },
  {
   "cell_type": "code",
   "execution_count": null,
   "id": "e9abdaec",
   "metadata": {},
   "outputs": [],
   "source": []
  }
 ],
 "metadata": {
  "kernelspec": {
   "display_name": "Python 3 (ipykernel)",
   "language": "python",
   "name": "python3"
  },
  "language_info": {
   "codemirror_mode": {
    "name": "ipython",
    "version": 3
   },
   "file_extension": ".py",
   "mimetype": "text/x-python",
   "name": "python",
   "nbconvert_exporter": "python",
   "pygments_lexer": "ipython3",
   "version": "3.9.7"
  }
 },
 "nbformat": 4,
 "nbformat_minor": 5
}
